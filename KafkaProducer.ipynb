{
 "cells": [
  {
   "cell_type": "code",
   "execution_count": null,
   "id": "e5cf69a3",
   "metadata": {},
   "outputs": [],
   "source": [
    "!pip install kafka-python\n"
   ]
  },
  {
   "cell_type": "code",
   "execution_count": null,
   "id": "0191060c",
   "metadata": {},
   "outputs": [],
   "source": [
    "import pandas as pd\n",
    "from kafka import KafkaProducer\n",
    "from time import sleep\n",
    "from json import dumps\n",
    "import json"
   ]
  },
  {
   "cell_type": "code",
   "execution_count": null,
   "id": "1f12744a",
   "metadata": {},
   "outputs": [],
   "source": [
    "stock_df=pd.read_csv(\"indexProcessed.csv\")"
   ]
  },
  {
   "cell_type": "code",
   "execution_count": null,
   "id": "2e55e1b6",
   "metadata": {},
   "outputs": [],
   "source": [
    "stock_df.head()"
   ]
  },
  {
   "cell_type": "code",
   "execution_count": null,
   "id": "822b2ee9",
   "metadata": {},
   "outputs": [],
   "source": [
    "stock_df.sample(1).to_dict()"
   ]
  },
  {
   "cell_type": "code",
   "execution_count": null,
   "id": "2fa2b882",
   "metadata": {},
   "outputs": [],
   "source": [
    "stock_df.sample(1).to_dict(orient='records')"
   ]
  },
  {
   "cell_type": "code",
   "execution_count": null,
   "id": "65281f30",
   "metadata": {},
   "outputs": [],
   "source": [
    "stock_df.sample(1).to_dict(orient='records')[0]"
   ]
  },
  {
   "cell_type": "code",
   "execution_count": null,
   "id": "7b53474e",
   "metadata": {},
   "outputs": [],
   "source": [
    "prod=KafkaProducer(bootstrap_servers=['Your EC2 Public Ip Address:9092'],\n",
    "                  value_serializer=lambda x:\n",
    "                  dumps(x).encode('utf-8'))"
   ]
  },
  {
   "cell_type": "code",
   "execution_count": null,
   "id": "b369ce95",
   "metadata": {},
   "outputs": [],
   "source": [
    " prod.send('stock_market', value={'Designation':'Data Engineer'})"
   ]
  },
  {
   "cell_type": "code",
   "execution_count": null,
   "id": "217ea0a2",
   "metadata": {},
   "outputs": [],
   "source": [
    "while True:\n",
    "    stock_dict=stock_df.sample(1).to_dict(orient=\"records\")[0]\n",
    "    prod.send('stock_market',value=stock_dict)\n",
    "    sleep(1)"
   ]
  },
  {
   "cell_type": "code",
   "execution_count": null,
   "id": "e3c2d35f",
   "metadata": {},
   "outputs": [],
   "source": []
  }
 ],
 "metadata": {
  "kernelspec": {
   "display_name": "Python 3 (ipykernel)",
   "language": "python",
   "name": "python3"
  },
  "language_info": {
   "codemirror_mode": {
    "name": "ipython",
    "version": 3
   },
   "file_extension": ".py",
   "mimetype": "text/x-python",
   "name": "python",
   "nbconvert_exporter": "python",
   "pygments_lexer": "ipython3",
   "version": "3.11.4"
  }
 },
 "nbformat": 4,
 "nbformat_minor": 5
}
